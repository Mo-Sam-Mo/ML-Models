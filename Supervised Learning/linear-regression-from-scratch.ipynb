{
 "cells": [
  {
   "cell_type": "markdown",
   "id": "54d7884d",
   "metadata": {
    "papermill": {
     "duration": 0.00761,
     "end_time": "2025-01-21T02:05:05.212045",
     "exception": false,
     "start_time": "2025-01-21T02:05:05.204435",
     "status": "completed"
    },
    "tags": []
   },
   "source": [
    "**بسم الله الرحمن الرحيم**"
   ]
  },
  {
   "cell_type": "markdown",
   "id": "9044b364",
   "metadata": {
    "papermill": {
     "duration": 0.005419,
     "end_time": "2025-01-21T02:05:05.223356",
     "exception": false,
     "start_time": "2025-01-21T02:05:05.217937",
     "status": "completed"
    },
    "tags": []
   },
   "source": [
    "# What is Linear Regression"
   ]
  },
  {
   "cell_type": "markdown",
   "id": "a4707711",
   "metadata": {
    "papermill": {
     "duration": 0.00527,
     "end_time": "2025-01-21T02:05:05.234196",
     "exception": false,
     "start_time": "2025-01-21T02:05:05.228926",
     "status": "completed"
    },
    "tags": []
   },
   "source": [
    "<span style=\"font-size: 17px;\">\n",
    "    \n",
    "### Model Equation\n",
    "In Linear Regression, the model attempts to predict the target variable \\( y \\) from the input features \\( X \\) using a linear relationship:\n",
    "\n",
    "$$\n",
    "y = Xw + b\n",
    "$$\n",
    "\n",
    "Where:\n",
    "- \\( y \\) is the vector of predicted outputs.\n",
    "- \\( X \\) is the matrix of input features with dimensions \\( m x n \\), where \\( m \\) is the number of samples and \\( n \\) is the number of features.\n",
    "- \\( w \\) is the vector of weights (or coefficients) for the features.\n",
    "- \\( b \\) is the bias (intercept) term.\n",
    "- \\( m \\) is the number of samples (data points), and \\( n \\) is the number of features."
   ]
  },
  {
   "cell_type": "markdown",
   "id": "210357de",
   "metadata": {
    "papermill": {
     "duration": 0.005312,
     "end_time": "2025-01-21T02:05:05.245117",
     "exception": false,
     "start_time": "2025-01-21T02:05:05.239805",
     "status": "completed"
    },
    "tags": []
   },
   "source": [
    "<span style=\"font-size: 16px;\">\n",
    "    \n",
    "### Goal\n",
    "The goal of Linear Regression is to find the weights $ w $ and bias $ b $ that minimize the **Mean Squared Error (MSE)** between the predicted values $ \\hat{y} $ and the actual values $ y $.\n",
    "\n",
    "\n",
    "\n"
   ]
  },
  {
   "cell_type": "markdown",
   "id": "9a5fb98a",
   "metadata": {
    "papermill": {
     "duration": 0.005342,
     "end_time": "2025-01-21T02:05:05.256009",
     "exception": false,
     "start_time": "2025-01-21T02:05:05.250667",
     "status": "completed"
    },
    "tags": []
   },
   "source": [
    "<span style=\"font-size: 17px;\">\n",
    "    \n",
    "### Loss Function (MSE)\n",
    "The **Mean Squared Error (MSE)** is used as the loss function to quantify the difference between predicted and actual values:\n",
    "\n",
    "$$\n",
    "\\text{MSE} = \\frac{1}{m} \\sum_{i=1}^{m} (y_i - \\hat{y}_i)^2\n",
    "$$\n",
    "\n",
    "Where:\n",
    "$$ \\hat{y}_i = X_i \\cdot w + b $$\n",
    "<center>is the prediction for the \\(i\\)-th sample.</center>\n",
    "<br>\n",
    "\n",
    "$$ y_i $$\n",
    "<center>is the actual target value for the \\(i\\)-th sample.</center>\n",
    "<br>\n",
    "  \n",
    "$$ m $$\n",
    "<center>is the number of training examples.</center>\n",
    "<br>\n",
    "This MSE function penalizes larger differences between the predicted and true values.\n",
    "\n"
   ]
  },
  {
   "cell_type": "markdown",
   "id": "039bebfc",
   "metadata": {
    "papermill": {
     "duration": 0.005365,
     "end_time": "2025-01-21T02:05:05.267568",
     "exception": false,
     "start_time": "2025-01-21T02:05:05.262203",
     "status": "completed"
    },
    "tags": []
   },
   "source": [
    "# Libs"
   ]
  },
  {
   "cell_type": "code",
   "execution_count": 1,
   "id": "40ebd938",
   "metadata": {
    "execution": {
     "iopub.execute_input": "2025-01-21T02:05:05.279994Z",
     "iopub.status.busy": "2025-01-21T02:05:05.279540Z",
     "iopub.status.idle": "2025-01-21T02:05:05.285363Z",
     "shell.execute_reply": "2025-01-21T02:05:05.284039Z"
    },
    "papermill": {
     "duration": 0.014002,
     "end_time": "2025-01-21T02:05:05.287149",
     "exception": false,
     "start_time": "2025-01-21T02:05:05.273147",
     "status": "completed"
    },
    "tags": []
   },
   "outputs": [],
   "source": [
    "#!pip install opendatasets"
   ]
  },
  {
   "cell_type": "code",
   "execution_count": 2,
   "id": "89dcc369",
   "metadata": {
    "execution": {
     "iopub.execute_input": "2025-01-21T02:05:05.300216Z",
     "iopub.status.busy": "2025-01-21T02:05:05.299819Z",
     "iopub.status.idle": "2025-01-21T02:05:08.312539Z",
     "shell.execute_reply": "2025-01-21T02:05:08.311289Z"
    },
    "papermill": {
     "duration": 3.021536,
     "end_time": "2025-01-21T02:05:08.314624",
     "exception": false,
     "start_time": "2025-01-21T02:05:05.293088",
     "status": "completed"
    },
    "tags": []
   },
   "outputs": [],
   "source": [
    "import numpy as np\n",
    "import pandas as pd\n",
    "import matplotlib.pyplot as plt\n",
    "from IPython.display import clear_output\n",
    "from sklearn.preprocessing import StandardScaler\n",
    "from sklearn.model_selection import train_test_split\n",
    "# import opendatasets as od"
   ]
  },
  {
   "cell_type": "markdown",
   "id": "70df6062",
   "metadata": {
    "papermill": {
     "duration": 0.005483,
     "end_time": "2025-01-21T02:05:08.326156",
     "exception": false,
     "start_time": "2025-01-21T02:05:08.320673",
     "status": "completed"
    },
    "tags": []
   },
   "source": [
    "# Dataset (Student Performance)"
   ]
  },
  {
   "cell_type": "markdown",
   "id": "72a8245e",
   "metadata": {
    "papermill": {
     "duration": 0.005997,
     "end_time": "2025-01-21T02:05:08.338315",
     "exception": false,
     "start_time": "2025-01-21T02:05:08.332318",
     "status": "completed"
    },
    "tags": []
   },
   "source": [
    "## Download"
   ]
  },
  {
   "cell_type": "code",
   "execution_count": 3,
   "id": "e0897bf8",
   "metadata": {
    "execution": {
     "iopub.execute_input": "2025-01-21T02:05:08.352229Z",
     "iopub.status.busy": "2025-01-21T02:05:08.351627Z",
     "iopub.status.idle": "2025-01-21T02:05:08.356067Z",
     "shell.execute_reply": "2025-01-21T02:05:08.354807Z"
    },
    "papermill": {
     "duration": 0.013285,
     "end_time": "2025-01-21T02:05:08.357955",
     "exception": false,
     "start_time": "2025-01-21T02:05:08.344670",
     "status": "completed"
    },
    "tags": []
   },
   "outputs": [],
   "source": [
    "# if using other notebooks uncomment this line to download the csv file\n",
    "# od.download('https://www.kaggle.com/datasets/andonians/random-linear-regression')\n",
    "# train_path = '/random-linear-regression/train.csv'\n",
    "# test_path = '/random-linear-regression/test.csv'"
   ]
  },
  {
   "cell_type": "code",
   "execution_count": 4,
   "id": "042709b3",
   "metadata": {
    "execution": {
     "iopub.execute_input": "2025-01-21T02:05:08.371272Z",
     "iopub.status.busy": "2025-01-21T02:05:08.370916Z",
     "iopub.status.idle": "2025-01-21T02:05:08.375637Z",
     "shell.execute_reply": "2025-01-21T02:05:08.374241Z"
    },
    "papermill": {
     "duration": 0.013579,
     "end_time": "2025-01-21T02:05:08.377495",
     "exception": false,
     "start_time": "2025-01-21T02:05:08.363916",
     "status": "completed"
    },
    "tags": []
   },
   "outputs": [],
   "source": [
    "#if using kaggle\n",
    "train_path = '/kaggle/input/random-linear-regression/train.csv'\n",
    "test_path = '/kaggle/input/random-linear-regression/test.csv'"
   ]
  },
  {
   "cell_type": "code",
   "execution_count": 5,
   "id": "72c26a08",
   "metadata": {
    "execution": {
     "iopub.execute_input": "2025-01-21T02:05:08.390838Z",
     "iopub.status.busy": "2025-01-21T02:05:08.390445Z",
     "iopub.status.idle": "2025-01-21T02:05:08.463150Z",
     "shell.execute_reply": "2025-01-21T02:05:08.461758Z"
    },
    "papermill": {
     "duration": 0.081414,
     "end_time": "2025-01-21T02:05:08.465073",
     "exception": false,
     "start_time": "2025-01-21T02:05:08.383659",
     "status": "completed"
    },
    "tags": []
   },
   "outputs": [
    {
     "data": {
      "text/html": [
       "<div>\n",
       "<style scoped>\n",
       "    .dataframe tbody tr th:only-of-type {\n",
       "        vertical-align: middle;\n",
       "    }\n",
       "\n",
       "    .dataframe tbody tr th {\n",
       "        vertical-align: top;\n",
       "    }\n",
       "\n",
       "    .dataframe thead th {\n",
       "        text-align: right;\n",
       "    }\n",
       "</style>\n",
       "<table border=\"1\" class=\"dataframe\">\n",
       "  <thead>\n",
       "    <tr style=\"text-align: right;\">\n",
       "      <th></th>\n",
       "      <th>x</th>\n",
       "      <th>y</th>\n",
       "    </tr>\n",
       "  </thead>\n",
       "  <tbody>\n",
       "    <tr>\n",
       "      <th>count</th>\n",
       "      <td>700.000000</td>\n",
       "      <td>699.000000</td>\n",
       "    </tr>\n",
       "    <tr>\n",
       "      <th>mean</th>\n",
       "      <td>54.985939</td>\n",
       "      <td>49.939869</td>\n",
       "    </tr>\n",
       "    <tr>\n",
       "      <th>std</th>\n",
       "      <td>134.681703</td>\n",
       "      <td>29.109217</td>\n",
       "    </tr>\n",
       "    <tr>\n",
       "      <th>min</th>\n",
       "      <td>0.000000</td>\n",
       "      <td>-3.839981</td>\n",
       "    </tr>\n",
       "    <tr>\n",
       "      <th>25%</th>\n",
       "      <td>25.000000</td>\n",
       "      <td>24.929968</td>\n",
       "    </tr>\n",
       "    <tr>\n",
       "      <th>50%</th>\n",
       "      <td>49.000000</td>\n",
       "      <td>48.973020</td>\n",
       "    </tr>\n",
       "    <tr>\n",
       "      <th>75%</th>\n",
       "      <td>75.000000</td>\n",
       "      <td>74.929911</td>\n",
       "    </tr>\n",
       "    <tr>\n",
       "      <th>max</th>\n",
       "      <td>3530.157369</td>\n",
       "      <td>108.871618</td>\n",
       "    </tr>\n",
       "  </tbody>\n",
       "</table>\n",
       "</div>"
      ],
      "text/plain": [
       "                 x           y\n",
       "count   700.000000  699.000000\n",
       "mean     54.985939   49.939869\n",
       "std     134.681703   29.109217\n",
       "min       0.000000   -3.839981\n",
       "25%      25.000000   24.929968\n",
       "50%      49.000000   48.973020\n",
       "75%      75.000000   74.929911\n",
       "max    3530.157369  108.871618"
      ]
     },
     "execution_count": 5,
     "metadata": {},
     "output_type": "execute_result"
    }
   ],
   "source": [
    "train_df = pd.read_csv(train_path)\n",
    "test_df = pd.read_csv(test_path)\n",
    "train_df.describe()"
   ]
  },
  {
   "cell_type": "markdown",
   "id": "d25f4463",
   "metadata": {
    "papermill": {
     "duration": 0.005485,
     "end_time": "2025-01-21T02:05:08.476774",
     "exception": false,
     "start_time": "2025-01-21T02:05:08.471289",
     "status": "completed"
    },
    "tags": []
   },
   "source": [
    "## Preprocessing"
   ]
  },
  {
   "cell_type": "markdown",
   "id": "e7c1281d",
   "metadata": {
    "papermill": {
     "duration": 0.00552,
     "end_time": "2025-01-21T02:05:08.488045",
     "exception": false,
     "start_time": "2025-01-21T02:05:08.482525",
     "status": "completed"
    },
    "tags": []
   },
   "source": [
    "### Train"
   ]
  },
  {
   "cell_type": "code",
   "execution_count": 6,
   "id": "491d8843",
   "metadata": {
    "execution": {
     "iopub.execute_input": "2025-01-21T02:05:08.501803Z",
     "iopub.status.busy": "2025-01-21T02:05:08.501367Z",
     "iopub.status.idle": "2025-01-21T02:05:08.767276Z",
     "shell.execute_reply": "2025-01-21T02:05:08.766178Z"
    },
    "papermill": {
     "duration": 0.274929,
     "end_time": "2025-01-21T02:05:08.769100",
     "exception": false,
     "start_time": "2025-01-21T02:05:08.494171",
     "status": "completed"
    },
    "tags": []
   },
   "outputs": [
    {
     "data": {
      "image/png": "[encoded data removed]",
      "text/plain": [
       "<Figure size 640x480 with 1 Axes>"
      ]
     },
     "metadata": {},
     "output_type": "display_data"
    }
   ],
   "source": [
    "plt.boxplot(train_df['x'], vert=True, patch_artist=True, boxprops=dict(facecolor=\"lightblue\"))\n",
    "plt.title(\"Boxplot of Data\")\n",
    "plt.ylabel(\"Values\")\n",
    "plt.show()"
   ]
  },
  {
   "cell_type": "code",
   "execution_count": 7,
   "id": "32a0ec73",
   "metadata": {
    "execution": {
     "iopub.execute_input": "2025-01-21T02:05:08.783714Z",
     "iopub.status.busy": "2025-01-21T02:05:08.783307Z",
     "iopub.status.idle": "2025-01-21T02:05:08.790006Z",
     "shell.execute_reply": "2025-01-21T02:05:08.788906Z"
    },
    "papermill": {
     "duration": 0.015847,
     "end_time": "2025-01-21T02:05:08.791856",
     "exception": false,
     "start_time": "2025-01-21T02:05:08.776009",
     "status": "completed"
    },
    "tags": []
   },
   "outputs": [],
   "source": [
    "X_train = np.array(train_df['x'][train_df['x'] <= 100.])[:, None]\n",
    "\n",
    "y_train = np.array(train_df['y'][train_df['x'] <= 100.])[:, None]"
   ]
  },
  {
   "cell_type": "code",
   "execution_count": 8,
   "id": "f3316bae",
   "metadata": {
    "execution": {
     "iopub.execute_input": "2025-01-21T02:05:08.806520Z",
     "iopub.status.busy": "2025-01-21T02:05:08.806104Z",
     "iopub.status.idle": "2025-01-21T02:05:08.956537Z",
     "shell.execute_reply": "2025-01-21T02:05:08.955236Z"
    },
    "papermill": {
     "duration": 0.159853,
     "end_time": "2025-01-21T02:05:08.958502",
     "exception": false,
     "start_time": "2025-01-21T02:05:08.798649",
     "status": "completed"
    },
    "tags": []
   },
   "outputs": [
    {
     "data": {
      "image/png": "[encoded data removed]",
      "text/plain": [
       "<Figure size 640x480 with 1 Axes>"
      ]
     },
     "metadata": {},
     "output_type": "display_data"
    }
   ],
   "source": [
    "plt.boxplot(X_train, vert=True, patch_artist=True, boxprops=dict(facecolor=\"lightblue\"))\n",
    "plt.title(\"Boxplot of Data\")\n",
    "plt.ylabel(\"Values\")\n",
    "plt.show()"
   ]
  },
  {
   "cell_type": "markdown",
   "id": "d665c8a5",
   "metadata": {
    "papermill": {
     "duration": 0.006439,
     "end_time": "2025-01-21T02:05:08.972359",
     "exception": false,
     "start_time": "2025-01-21T02:05:08.965920",
     "status": "completed"
    },
    "tags": []
   },
   "source": [
    "### Test"
   ]
  },
  {
   "cell_type": "code",
   "execution_count": 9,
   "id": "ee911868",
   "metadata": {
    "execution": {
     "iopub.execute_input": "2025-01-21T02:05:08.987705Z",
     "iopub.status.busy": "2025-01-21T02:05:08.987349Z",
     "iopub.status.idle": "2025-01-21T02:05:09.133643Z",
     "shell.execute_reply": "2025-01-21T02:05:09.132503Z"
    },
    "papermill": {
     "duration": 0.156993,
     "end_time": "2025-01-21T02:05:09.135983",
     "exception": false,
     "start_time": "2025-01-21T02:05:08.978990",
     "status": "completed"
    },
    "tags": []
   },
   "outputs": [
    {
     "data": {
      "image/png": "[encoded data removed]",
      "text/plain": [
       "<Figure size 640x480 with 1 Axes>"
      ]
     },
     "metadata": {},
     "output_type": "display_data"
    }
   ],
   "source": [
    "plt.boxplot(test_df['x'], vert=True, patch_artist=True, boxprops=dict(facecolor=\"lightblue\"))\n",
    "plt.title(\"Boxplot of Data\")\n",
    "plt.ylabel(\"Values\")\n",
    "plt.show()"
   ]
  },
  {
   "cell_type": "code",
   "execution_count": 10,
   "id": "0f157f27",
   "metadata": {
    "execution": {
     "iopub.execute_input": "2025-01-21T02:05:09.151579Z",
     "iopub.status.busy": "2025-01-21T02:05:09.151227Z",
     "iopub.status.idle": "2025-01-21T02:05:09.156717Z",
     "shell.execute_reply": "2025-01-21T02:05:09.155584Z"
    },
    "papermill": {
     "duration": 0.015256,
     "end_time": "2025-01-21T02:05:09.158566",
     "exception": false,
     "start_time": "2025-01-21T02:05:09.143310",
     "status": "completed"
    },
    "tags": []
   },
   "outputs": [],
   "source": [
    "X_test = np.array(test_df['x'])[:, None]\n",
    "y_test = np.array(test_df['y'])[:, None]"
   ]
  },
  {
   "cell_type": "code",
   "execution_count": 11,
   "id": "4b820401",
   "metadata": {
    "execution": {
     "iopub.execute_input": "2025-01-21T02:05:09.174150Z",
     "iopub.status.busy": "2025-01-21T02:05:09.173584Z",
     "iopub.status.idle": "2025-01-21T02:05:09.179462Z",
     "shell.execute_reply": "2025-01-21T02:05:09.178296Z"
    },
    "papermill": {
     "duration": 0.016046,
     "end_time": "2025-01-21T02:05:09.181829",
     "exception": false,
     "start_time": "2025-01-21T02:05:09.165783",
     "status": "completed"
    },
    "tags": []
   },
   "outputs": [],
   "source": [
    "scaler = StandardScaler()\n",
    "scaler = scaler.fit(X_train)"
   ]
  },
  {
   "cell_type": "code",
   "execution_count": 12,
   "id": "3398e2c6",
   "metadata": {
    "execution": {
     "iopub.execute_input": "2025-01-21T02:05:09.198288Z",
     "iopub.status.busy": "2025-01-21T02:05:09.197890Z",
     "iopub.status.idle": "2025-01-21T02:05:09.203030Z",
     "shell.execute_reply": "2025-01-21T02:05:09.201793Z"
    },
    "papermill": {
     "duration": 0.015643,
     "end_time": "2025-01-21T02:05:09.204959",
     "exception": false,
     "start_time": "2025-01-21T02:05:09.189316",
     "status": "completed"
    },
    "tags": []
   },
   "outputs": [],
   "source": [
    "X_train = scaler.transform(X_train)\n",
    "X_test = scaler.transform(X_test)"
   ]
  },
  {
   "cell_type": "code",
   "execution_count": 13,
   "id": "55ec7366",
   "metadata": {
    "execution": {
     "iopub.execute_input": "2025-01-21T02:05:09.220990Z",
     "iopub.status.busy": "2025-01-21T02:05:09.220434Z",
     "iopub.status.idle": "2025-01-21T02:05:09.227504Z",
     "shell.execute_reply": "2025-01-21T02:05:09.226153Z"
    },
    "papermill": {
     "duration": 0.01772,
     "end_time": "2025-01-21T02:05:09.229651",
     "exception": false,
     "start_time": "2025-01-21T02:05:09.211931",
     "status": "completed"
    },
    "tags": []
   },
   "outputs": [
    {
     "name": "stdout",
     "output_type": "stream",
     "text": [
      "Shape of X_train: (699, 1)\n",
      "Shape of X_test: (300, 1)\n"
     ]
    }
   ],
   "source": [
    "print(\"Shape of X_train:\", X_train.shape)\n",
    "print(\"Shape of X_test:\", X_test.shape)"
   ]
  },
  {
   "cell_type": "markdown",
   "id": "b22b6432",
   "metadata": {
    "papermill": {
     "duration": 0.007187,
     "end_time": "2025-01-21T02:05:09.244664",
     "exception": false,
     "start_time": "2025-01-21T02:05:09.237477",
     "status": "completed"
    },
    "tags": []
   },
   "source": [
    "# Model"
   ]
  },
  {
   "cell_type": "markdown",
   "id": "bab2a605",
   "metadata": {
    "papermill": {
     "duration": 0.007314,
     "end_time": "2025-01-21T02:05:09.259238",
     "exception": false,
     "start_time": "2025-01-21T02:05:09.251924",
     "status": "completed"
    },
    "tags": []
   },
   "source": [
    "<span style=\"font-size: 17px;\">\n",
    "\n",
    "### Steps in the `LinearReg` Class:\n",
    "1. **Initialization**:\n",
    "   - $ w = 0 $, $ b = 0 $ (initial weights and bias are set to zero).\n",
    "   - $ X $ is the feature matrix, $ y $ is the target vector.\n",
    "   - \n",
    "<br>\n",
    "\n",
    "2. **Prediction**:\n",
    "   - For a given input $ X $, the predicted value $ \\hat{y} $ is:\n",
    "     $$\n",
    "     \\hat{y} = X \\cdot w + b\n",
    "     $$\n",
    "\n",
    "3. **Loss Calculation**:\n",
    "   - Compute the difference between the predicted and actual values using the MSE formula.\n",
    "\n",
    "4. **Gradient Calculation**:\n",
    "   - Compute the gradients for the weights and bias, as mentioned earlier.\n",
    "\n",
    "5. **Update Parameters**:\n",
    "   - Adjust the weights and bias using the learning rate and the computed gradients."
   ]
  },
  {
   "cell_type": "code",
   "execution_count": 14,
   "id": "6c642378",
   "metadata": {
    "execution": {
     "iopub.execute_input": "2025-01-21T02:05:09.275553Z",
     "iopub.status.busy": "2025-01-21T02:05:09.275141Z",
     "iopub.status.idle": "2025-01-21T02:05:09.284596Z",
     "shell.execute_reply": "2025-01-21T02:05:09.283219Z"
    },
    "papermill": {
     "duration": 0.020134,
     "end_time": "2025-01-21T02:05:09.286559",
     "exception": false,
     "start_time": "2025-01-21T02:05:09.266425",
     "status": "completed"
    },
    "tags": []
   },
   "outputs": [],
   "source": [
    "class LinearReg():\n",
    "    # Initialization of the Linear Regression model\n",
    "    def __init__(self, learningRate, iterations, data):\n",
    "        # Learning rate to control how much we update the model per iteration\n",
    "        self.learningRate = learningRate\n",
    "        # Number of iterations to train the model\n",
    "        self.iterations = iterations\n",
    "        # Splitting the input data into features (X) and target variable (y)\n",
    "        self.X, self.y = data\n",
    "        # Getting the number of samples and features from the data\n",
    "        self.samples, self.features = self.X.shape\n",
    "        # Initializing weights as zero for each feature\n",
    "        self.weights = np.zeros(self.features)\n",
    "        # Initializing the bias term as zero\n",
    "        self.bias = 0\n",
    "\n",
    "    # The fitting method, where the model learns the data\n",
    "    def fit(self):\n",
    "        # Iterating through the number of training iterations\n",
    "        for it in range(self.iterations):\n",
    "            # Every 100 iterations, plot the progress of learning\n",
    "            if (it+1) % 100 == 0:\n",
    "                # Using the current weights and bias to make predictions\n",
    "                yHat = self.predict(self.X)\n",
    "                \n",
    "                # Plotting the original data points\n",
    "                plt.scatter(self.X, self.y, color=\"blue\", label=\"Data Points\")\n",
    "                # Plotting the predictions of the model\n",
    "                plt.plot(self.X, yHat, color=\"red\", label=\"Prediction\")\n",
    "                # Title of the plot showing the current iteration number\n",
    "                plt.title(\"iteration no.\" + str(it+1))\n",
    "                plt.xlabel(\"X\")  # Label for x-axis\n",
    "                plt.ylabel(\"y\")  # Label for y-axis\n",
    "                plt.show()  # Display the plot\n",
    "                clear_output(wait=True)  # Clears previous plots to show the current one\n",
    "\n",
    "            # Update the model's weights and bias using the gradient descent algorithm\n",
    "            self.update()\n",
    "            \n",
    "    # Method to update the weights and bias using gradient descent\n",
    "    def update(self):\n",
    "        # Make predictions using the current model's parameters\n",
    "        yHat = self.predict(self.X)\n",
    "        \n",
    "        # Compute the gradient of the weights (dW) and bias (db) using the Mean Squared Error loss function\n",
    "        dW = - ( 2 * ( self.X.T ).dot( self.y - yHat )  ) / self.samples  # Gradient for weights\n",
    "        db = - 2 * np.sum( self.y - yHat ) / self.samples  # Gradient for bias\n",
    "\n",
    "        # Update weights using the learning rate and the gradient\n",
    "        self.weights = self.weights - self.learningRate * dW\n",
    "        \n",
    "        # Update bias using the learning rate and the gradient\n",
    "        self.bias = self.bias - self.learningRate * db\n",
    "\n",
    "    # Method to make predictions with the current weights and bias\n",
    "    def predict(self, X):\n",
    "        # Predicting the output as a linear combination of the features (X) and the weights, plus the bias term\n",
    "        return X.dot(self.weights) + self.bias"
   ]
  },
  {
   "cell_type": "markdown",
   "id": "e431ae0e",
   "metadata": {
    "papermill": {
     "duration": 0.006944,
     "end_time": "2025-01-21T02:05:09.300968",
     "exception": false,
     "start_time": "2025-01-21T02:05:09.294024",
     "status": "completed"
    },
    "tags": []
   },
   "source": [
    "<span style=\"font-size: 17px;\">\n",
    "\n",
    "### Example of Linear Regression in the Context of the Code:\n",
    "1. **Training**:\n",
    "   - The `fit()` method loops over the number of training iterations.\n",
    "   - During each iteration, the model computes the predicted values $ \\hat{y} $ using the current weights and bias.\n",
    "   - The loss is calculated, and then the weights and bias are updated using the gradients.\n",
    "   - Every 100 iterations, the model visualizes the current predictions and data points.\n",
    "\n",
    "2. **Prediction**:\n",
    "   - After training, the model can predict new values for input data $ X $ using:\n",
    "     $$\n",
    "     \\hat{y} = X \\cdot w + b\n",
    "     $$\n",
    "\n",
    "This process gradually adjusts the model's parameters (weights and bias) to fit the data by minimizing the loss, resulting in a better fit to the training data."
   ]
  },
  {
   "cell_type": "code",
   "execution_count": 15,
   "id": "a3345aa4",
   "metadata": {
    "execution": {
     "iopub.execute_input": "2025-01-21T02:05:09.316703Z",
     "iopub.status.busy": "2025-01-21T02:05:09.316297Z",
     "iopub.status.idle": "2025-01-21T02:05:36.029895Z",
     "shell.execute_reply": "2025-01-21T02:05:36.028676Z"
    },
    "papermill": {
     "duration": 26.723753,
     "end_time": "2025-01-21T02:05:36.031931",
     "exception": false,
     "start_time": "2025-01-21T02:05:09.308178",
     "status": "completed"
    },
    "tags": []
   },
   "outputs": [
    {
     "data": {
      "image/png": "[encoded data removed]",
      "text/plain": [
       "<Figure size 640x480 with 1 Axes>"
      ]
     },
     "metadata": {},
     "output_type": "display_data"
    }
   ],
   "source": [
    "model = LinearReg(learningRate=0.001, iterations=2000, data=(X_train, y_train))\n",
    "model.fit()"
   ]
  },
  {
   "cell_type": "markdown",
   "id": "69c25288",
   "metadata": {
    "papermill": {
     "duration": 0.008424,
     "end_time": "2025-01-21T02:05:36.049119",
     "exception": false,
     "start_time": "2025-01-21T02:05:36.040695",
     "status": "completed"
    },
    "tags": []
   },
   "source": [
    "# Evaluate"
   ]
  },
  {
   "cell_type": "code",
   "execution_count": 16,
   "id": "9a71a936",
   "metadata": {
    "execution": {
     "iopub.execute_input": "2025-01-21T02:05:36.066030Z",
     "iopub.status.busy": "2025-01-21T02:05:36.065575Z",
     "iopub.status.idle": "2025-01-21T02:05:37.538011Z",
     "shell.execute_reply": "2025-01-21T02:05:37.536715Z"
    },
    "papermill": {
     "duration": 1.483232,
     "end_time": "2025-01-21T02:05:37.540032",
     "exception": false,
     "start_time": "2025-01-21T02:05:36.056800",
     "status": "completed"
    },
    "tags": []
   },
   "outputs": [
    {
     "data": {
      "image/png": "[encoded data removed]",
      "text/plain": [
       "<Figure size 640x480 with 1 Axes>"
      ]
     },
     "metadata": {},
     "output_type": "display_data"
    }
   ],
   "source": [
    "scatter = plt.scatter(X_test, y_test, color=\"blue\", label=\"Data Points\")\n",
    "line = plt.plot(X_test, model.predict(X_test), color=\"red\", label=\"Prediction\")[0]\n",
    "plt.title(\"Test Data Prediction\")\n",
    "plt.xlabel(\"X\")\n",
    "plt.ylabel(\"y\")\n",
    "plt.legend(handles=[scatter, line])\n",
    "plt.show()"
   ]
  }
 ],
 "metadata": {
  "kaggle": {
   "accelerator": "none",
   "dataSources": [
    {
     "datasetId": 1256,
     "sourceId": 2242,
     "sourceType": "datasetVersion"
    }
   ],
   "dockerImageVersionId": 30839,
   "isGpuEnabled": false,
   "isInternetEnabled": true,
   "language": "python",
   "sourceType": "notebook"
  },
  "kernelspec": {
   "display_name": "Python 3",
   "language": "python",
   "name": "python3"
  },
  "language_info": {
   "codemirror_mode": {
    "name": "ipython",
    "version": 3
   },
   "file_extension": ".py",
   "mimetype": "text/x-python",
   "name": "python",
   "nbconvert_exporter": "python",
   "pygments_lexer": "ipython3",
   "version": "3.10.12"
  },
  "papermill": {
   "default_parameters": {},
   "duration": 36.194748,
   "end_time": "2025-01-21T02:05:38.472354",
   "environment_variables": {},
   "exception": null,
   "input_path": "__notebook__.ipynb",
   "output_path": "__notebook__.ipynb",
   "parameters": {},
   "start_time": "2025-01-21T02:05:02.277606",
   "version": "2.6.0"
  }
 },
 "nbformat": 4,
 "nbformat_minor": 5
}
